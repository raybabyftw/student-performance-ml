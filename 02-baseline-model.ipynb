{
 "cells": [
  {
   "cell_type": "code",
   "execution_count": 2,
   "id": "a972b546",
   "metadata": {},
   "outputs": [
    {
     "name": "stdout",
     "output_type": "stream",
     "text": [
      "✅ Baseline model trained and saved as models/baseline_model.pkl\n"
     ]
    }
   ],
   "source": [
    "import pandas as pd\n",
    "import pickle\n",
    "from sklearn.linear_model import LogisticRegression\n",
    "import os\n",
    "\n",
    "# Load processed data\n",
    "train = pd.read_csv(\"processed_data/train.csv\")\n",
    "X_train = train.drop(\"G3_binary\", axis=1)\n",
    "y_train = train[\"G3_binary\"]\n",
    "\n",
    "# Train baseline model\n",
    "baseline_model = LogisticRegression(max_iter=1000, random_state=42)\n",
    "baseline_model.fit(X_train, y_train)\n",
    "\n",
    "# Create models directory if it doesn't exist\n",
    "os.makedirs(\"models\", exist_ok=True)\n",
    "\n",
    "# Save model\n",
    "with open(\"models/baseline_model.pkl\", \"wb\") as f:\n",
    "    pickle.dump(baseline_model, f)\n",
    "\n",
    "print(\"✅ Baseline model trained and saved as models/baseline_model.pkl\")\n"
   ]
  }
 ],
 "metadata": {
  "kernelspec": {
   "display_name": "Python 3",
   "language": "python",
   "name": "python3"
  },
  "language_info": {
   "codemirror_mode": {
    "name": "ipython",
    "version": 3
   },
   "file_extension": ".py",
   "mimetype": "text/x-python",
   "name": "python",
   "nbconvert_exporter": "python",
   "pygments_lexer": "ipython3",
   "version": "3.11.0"
  }
 },
 "nbformat": 4,
 "nbformat_minor": 5
}
