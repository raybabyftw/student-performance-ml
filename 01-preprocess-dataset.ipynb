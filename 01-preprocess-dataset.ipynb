{
 "cells": [
  {
   "cell_type": "code",
   "execution_count": 2,
   "id": "624b7479",
   "metadata": {},
   "outputs": [],
   "source": [
    "import pandas as pd\n",
    "import numpy as np\n",
    "import os\n",
    "\n",
    "from sklearn.model_selection import train_test_split\n",
    "from sklearn.preprocessing import StandardScaler, OneHotEncoder\n",
    "from sklearn.compose import ColumnTransformer\n",
    "from sklearn.pipeline import Pipeline\n",
    "from sklearn.impute import SimpleImputer\n"
   ]
  },
  {
   "cell_type": "code",
   "execution_count": 3,
   "id": "b2829a91",
   "metadata": {},
   "outputs": [],
   "source": [
    "df = pd.read_csv(\"student-mat.csv\", sep=';')\n"
   ]
  },
  {
   "cell_type": "code",
   "execution_count": 4,
   "id": "4942f259",
   "metadata": {},
   "outputs": [],
   "source": [
    "df['G3_binary'] = (df['G3'] >= 15).astype(int)\n",
    "df = df.drop(columns=['G1', 'G2', 'G3'])  # Drop raw grade columns\n"
   ]
  },
  {
   "cell_type": "code",
   "execution_count": 5,
   "id": "a3400764",
   "metadata": {},
   "outputs": [],
   "source": [
    "target = 'G3_binary'\n",
    "\n",
    "categorical_features = [\n",
    "    'school', 'sex', 'address', 'famsize', 'Pstatus', 'Mjob', 'Fjob',\n",
    "    'reason', 'guardian', 'schoolsup', 'famsup', 'paid', 'activities',\n",
    "    'nursery', 'higher', 'internet', 'romantic'\n",
    "]\n",
    "\n",
    "numeric_features = df.drop(columns=categorical_features + [target]).columns.tolist()\n"
   ]
  },
  {
   "cell_type": "code",
   "execution_count": 6,
   "id": "a94c0007",
   "metadata": {},
   "outputs": [],
   "source": [
    "train_df, test_df = train_test_split(df, test_size=0.3, stratify=df[target], random_state=42)\n",
    "val_df, test_df = train_test_split(test_df, test_size=0.5, stratify=test_df[target], random_state=42)\n"
   ]
  },
  {
   "cell_type": "code",
   "execution_count": 7,
   "id": "045178c8",
   "metadata": {},
   "outputs": [],
   "source": [
    "numeric_transformer = Pipeline(steps=[\n",
    "    ('imputer', SimpleImputer(strategy='median')),\n",
    "    ('scaler', StandardScaler())\n",
    "])\n",
    "\n",
    "categorical_transformer = Pipeline(steps=[\n",
    "    ('imputer', SimpleImputer(strategy='most_frequent')),\n",
    "    ('onehot', OneHotEncoder(drop='first', handle_unknown='ignore'))\n",
    "])\n",
    "\n",
    "preprocessor = ColumnTransformer(\n",
    "    transformers=[\n",
    "        ('num', numeric_transformer, numeric_features),\n",
    "        ('cat', categorical_transformer, categorical_features)\n",
    "    ]\n",
    ")\n"
   ]
  },
  {
   "cell_type": "code",
   "execution_count": 8,
   "id": "8d896ec8",
   "metadata": {},
   "outputs": [],
   "source": [
    "X_train = train_df.drop(columns=target)\n",
    "y_train = train_df[target]\n",
    "\n",
    "X_val = val_df.drop(columns=target)\n",
    "y_val = val_df[target]\n",
    "\n",
    "X_test = test_df.drop(columns=target)\n",
    "y_test = test_df[target]\n",
    "\n",
    "X_train_proc = preprocessor.fit_transform(X_train)\n",
    "X_val_proc = preprocessor.transform(X_val)\n",
    "X_test_proc = preprocessor.transform(X_test)\n"
   ]
  },
  {
   "cell_type": "code",
   "execution_count": 9,
   "id": "4c2b7d85",
   "metadata": {},
   "outputs": [],
   "source": [
    "cat_cols = preprocessor.named_transformers_['cat']['onehot'].get_feature_names_out(categorical_features)\n",
    "processed_cols = np.concatenate([numeric_features, cat_cols])\n",
    "\n",
    "X_train_df = pd.DataFrame(X_train_proc.toarray() if hasattr(X_train_proc, \"toarray\") else X_train_proc, columns=processed_cols)\n",
    "X_val_df = pd.DataFrame(X_val_proc.toarray() if hasattr(X_val_proc, \"toarray\") else X_val_proc, columns=processed_cols)\n",
    "X_test_df = pd.DataFrame(X_test_proc.toarray() if hasattr(X_test_proc, \"toarray\") else X_test_proc, columns=processed_cols)\n"
   ]
  },
  {
   "cell_type": "code",
   "execution_count": 10,
   "id": "726f1faa",
   "metadata": {},
   "outputs": [],
   "source": [
    "X_train_df[target] = y_train.reset_index(drop=True)\n",
    "X_val_df[target] = y_val.reset_index(drop=True)\n",
    "X_test_df[target] = y_test.reset_index(drop=True)\n"
   ]
  },
  {
   "cell_type": "code",
   "execution_count": 11,
   "id": "48fcb51e",
   "metadata": {},
   "outputs": [
    {
     "name": "stdout",
     "output_type": "stream",
     "text": [
      "✅ Preprocessing complete. Files saved to 'processed_data/'\n"
     ]
    }
   ],
   "source": [
    "os.makedirs(\"processed_data\", exist_ok=True)\n",
    "\n",
    "X_train_df.to_csv(\"processed_data/train.csv\", index=False)\n",
    "X_val_df.to_csv(\"processed_data/val.csv\", index=False)\n",
    "X_test_df.to_csv(\"processed_data/test.csv\", index=False)\n",
    "\n",
    "print(\"✅ Preprocessing complete. Files saved to 'processed_data/'\")\n"
   ]
  }
 ],
 "metadata": {
  "kernelspec": {
   "display_name": "Python 3",
   "language": "python",
   "name": "python3"
  },
  "language_info": {
   "codemirror_mode": {
    "name": "ipython",
    "version": 3
   },
   "file_extension": ".py",
   "mimetype": "text/x-python",
   "name": "python",
   "nbconvert_exporter": "python",
   "pygments_lexer": "ipython3",
   "version": "3.11.0"
  }
 },
 "nbformat": 4,
 "nbformat_minor": 5
}
